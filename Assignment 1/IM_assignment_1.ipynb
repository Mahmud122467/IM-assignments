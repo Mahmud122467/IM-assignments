{
  "nbformat": 4,
  "nbformat_minor": 0,
  "metadata": {
    "colab": {
      "name": "IM_assignment-1.ipynb",
      "provenance": [],
      "authorship_tag": "ABX9TyOcJaLOEbFzHBEDyd0TqrAN",
      "include_colab_link": true
    },
    "kernelspec": {
      "name": "python3",
      "display_name": "Python 3"
    },
    "language_info": {
      "name": "python"
    }
  },
  "cells": [
    {
      "cell_type": "markdown",
      "metadata": {
        "id": "view-in-github",
        "colab_type": "text"
      },
      "source": [
        "<a href=\"https://colab.research.google.com/github/Mahmud122467/IM-assignments/blob/main/IM_assignment_1.ipynb\" target=\"_parent\"><img src=\"https://colab.research.google.com/assets/colab-badge.svg\" alt=\"Open In Colab\"/></a>"
      ]
    },
    {
      "cell_type": "markdown",
      "metadata": {
        "id": "elQqshKj2oxF"
      },
      "source": [
        "**Importing the libraries**"
      ]
    },
    {
      "cell_type": "code",
      "metadata": {
        "id": "xU8hECKaq2Zs"
      },
      "source": [
        "import matplotlib.pyplot as plt\n",
        "import numpy as np"
      ],
      "execution_count": 7,
      "outputs": []
    },
    {
      "cell_type": "markdown",
      "metadata": {
        "id": "_CM6PiuD2Npm"
      },
      "source": [
        "**Initialize the input values**"
      ]
    },
    {
      "cell_type": "code",
      "metadata": {
        "colab": {
          "base_uri": "https://localhost:8080/"
        },
        "id": "xuDJ_f6rrXvO",
        "outputId": "5f4dbc78-93c5-4c4b-c1ca-b6dad676c2af"
      },
      "source": [
        "k = 4\n",
        "n = np.arange(1,8) \n",
        "n"
      ],
      "execution_count": 8,
      "outputs": [
        {
          "output_type": "execute_result",
          "data": {
            "text/plain": [
              "array([1, 2, 3, 4, 5, 6, 7])"
            ]
          },
          "metadata": {
            "tags": []
          },
          "execution_count": 8
        }
      ]
    },
    {
      "cell_type": "markdown",
      "metadata": {
        "id": "Kiez7yaA2yNF"
      },
      "source": [
        "**Function Value Calculation**"
      ]
    },
    {
      "cell_type": "code",
      "metadata": {
        "id": "bUQO2rc0tmg3"
      },
      "source": [
        "y1 = np.log2(n) #logarithmic\n",
        "y2 = n # linear\n",
        "y3 = np.square(n) #Quadratic\n",
        "y4 = np.power(n,3) #Cubic\n",
        "y5 = np.power(n,k) #Polynomial"
      ],
      "execution_count": 9,
      "outputs": []
    },
    {
      "cell_type": "markdown",
      "metadata": {
        "id": "AY1wKdgK3bri"
      },
      "source": [
        "**Plotting and Comparing different funtions**"
      ]
    },
    {
      "cell_type": "code",
      "metadata": {
        "colab": {
          "base_uri": "https://localhost:8080/",
          "height": 312
        },
        "id": "bzrZqBnbvyqF",
        "outputId": "ecf76da8-2780-4da1-cb6c-f274e020af79"
      },
      "source": [
        "plt.plot(n,y1)\n",
        "plt.plot(n,y2)\n",
        "plt.plot(n,y3)\n",
        "plt.plot(n,y4)\n",
        "plt.plot(n,y5)\n",
        "plt.title('Run time comparison using different functions')\n",
        "plt.xlabel('n')\n",
        "plt.ylabel('Run time (Seconds)')\n",
        "plt.legend(['Logarithmic', 'Linear', 'Quadratic', 'Cubic', 'Polynomial'])"
      ],
      "execution_count": 10,
      "outputs": [
        {
          "output_type": "execute_result",
          "data": {
            "text/plain": [
              "<matplotlib.legend.Legend at 0x7ff6c446b410>"
            ]
          },
          "metadata": {
            "tags": []
          },
          "execution_count": 10
        },
        {
          "output_type": "display_data",
          "data": {
            "image/png": "[encoded data removed]",
            "text/plain": [
              "<Figure size 432x288 with 1 Axes>"
            ]
          },
          "metadata": {
            "tags": [],
            "needs_background": "light"
          }
        }
      ]
    }
  ]
}
